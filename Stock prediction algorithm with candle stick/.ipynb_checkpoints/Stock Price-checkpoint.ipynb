{
 "cells": [
  {
   "cell_type": "code",
   "execution_count": 1,
   "id": "19a55721",
   "metadata": {
    "ExecuteTime": {
     "end_time": "2022-10-25T23:15:52.576617Z",
     "start_time": "2022-10-25T23:15:51.987991Z"
    }
   },
   "outputs": [],
   "source": [
    "import yfinance as yf"
   ]
  },
  {
   "cell_type": "code",
   "execution_count": 2,
   "id": "b8ff64a5",
   "metadata": {
    "ExecuteTime": {
     "end_time": "2022-10-25T23:15:52.595210Z",
     "start_time": "2022-10-25T23:15:52.578627Z"
    }
   },
   "outputs": [],
   "source": [
    "eur=yf.Ticker(\"EURUSD=X\")"
   ]
  },
  {
   "cell_type": "markdown",
   "id": "fbfc0b69",
   "metadata": {
    "ExecuteTime": {
     "end_time": "2022-10-25T21:57:33.443148Z",
     "start_time": "2022-10-25T21:57:33.429086Z"
    }
   },
   "source": [
    "#"
   ]
  },
  {
   "cell_type": "markdown",
   "id": "896a0bbd",
   "metadata": {
    "ExecuteTime": {
     "end_time": "2022-10-25T22:49:14.472974Z",
     "start_time": "2022-10-25T22:49:14.461033Z"
    }
   },
   "source": [
    "\n",
    "<div style = \"width: 1024px; height: 250px; line-height: em; overflow:scroll;  padding: 5px;\">\n",
    "\n",
    "Help on method history in module yfinance.base:\n",
    "\n",
    "    \n",
    "    \n",
    "history(period='1mo', interval='1d', start=None, end=None, prepost=False, actions=True, auto_adjust=True, back_adjust=False, keepna=False, proxy=None, rounding=False, timeout=None, **kwargs) method of yfinance.ticker.Ticker instance\n",
    "    \n",
    "    \n",
    "    :Parameters:\n",
    "        period : str\n",
    "            Valid periods: 1d,5d,1mo,3mo,6mo,1y,2y,5y,10y,ytd,max\n",
    "            Either Use period parameter or use start and end\n",
    "        interval : str\n",
    "            Valid intervals: 1m,2m,5m,15m,30m,60m,90m,1h,1d,5d,1wk,1mo,3mo\n",
    "            Intraday data cannot extend last 60 days\n",
    "        start: str\n",
    "            Download start date string (YYYY-MM-DD) or _datetime.\n",
    "            Default is 1900-01-01\n",
    "        end: str\n",
    "            Download end date string (YYYY-MM-DD) or _datetime.\n",
    "            Default is now\n",
    "        prepost : bool\n",
    "            Include Pre and Post market data in results?\n",
    "            Default is False\n",
    "        auto_adjust: bool\n",
    "            Adjust all OHLC automatically? Default is True\n",
    "        back_adjust: bool\n",
    "            Back-adjusted data to mimic true historical prices\n",
    "        keepna: bool\n",
    "            Keep NaN rows returned by Yahoo?\n",
    "            Default is False\n",
    "        proxy: str\n",
    "            Optional. Proxy server URL scheme. Default is None\n",
    "        rounding: bool\n",
    "            Round values to 2 decimal places?\n",
    "            Optional. Default is False = precision suggested by Yahoo!\n",
    "        timeout: None or float\n",
    "            If not None stops waiting for a response after given number of\n",
    "            seconds. (Can also be a fraction of a second e.g. 0.01)\n",
    "            Default is None.\n",
    "        **kwargs: dict\n",
    "            debug: bool\n",
    "                Optional. If passed as False, will suppress\n",
    "                error message printing to console.\"\"\""
   ]
  },
  {
   "cell_type": "code",
   "execution_count": 3,
   "id": "49e43f90",
   "metadata": {
    "ExecuteTime": {
     "end_time": "2022-10-25T23:15:53.864454Z",
     "start_time": "2022-10-25T23:15:52.595449Z"
    },
    "hidden": true
   },
   "outputs": [
    {
     "data": {
      "text/html": [
       "<div>\n",
       "<style scoped>\n",
       "    .dataframe tbody tr th:only-of-type {\n",
       "        vertical-align: middle;\n",
       "    }\n",
       "\n",
       "    .dataframe tbody tr th {\n",
       "        vertical-align: top;\n",
       "    }\n",
       "\n",
       "    .dataframe thead th {\n",
       "        text-align: right;\n",
       "    }\n",
       "</style>\n",
       "<table border=\"1\" class=\"dataframe\">\n",
       "  <thead>\n",
       "    <tr style=\"text-align: right;\">\n",
       "      <th></th>\n",
       "      <th>Open</th>\n",
       "      <th>High</th>\n",
       "      <th>Low</th>\n",
       "      <th>Close</th>\n",
       "      <th>Volume</th>\n",
       "      <th>Dividends</th>\n",
       "      <th>Stock Splits</th>\n",
       "    </tr>\n",
       "    <tr>\n",
       "      <th>Date</th>\n",
       "      <th></th>\n",
       "      <th></th>\n",
       "      <th></th>\n",
       "      <th></th>\n",
       "      <th></th>\n",
       "      <th></th>\n",
       "      <th></th>\n",
       "    </tr>\n",
       "  </thead>\n",
       "  <tbody>\n",
       "    <tr>\n",
       "      <th>2003-12-01 00:00:00+00:00</th>\n",
       "      <td>1.203398</td>\n",
       "      <td>1.219096</td>\n",
       "      <td>1.194401</td>\n",
       "      <td>1.217093</td>\n",
       "      <td>0</td>\n",
       "      <td>0</td>\n",
       "      <td>0</td>\n",
       "    </tr>\n",
       "    <tr>\n",
       "      <th>2003-12-08 00:00:00+00:00</th>\n",
       "      <td>1.216797</td>\n",
       "      <td>1.230603</td>\n",
       "      <td>1.212298</td>\n",
       "      <td>1.218502</td>\n",
       "      <td>0</td>\n",
       "      <td>0</td>\n",
       "      <td>0</td>\n",
       "    </tr>\n",
       "    <tr>\n",
       "      <th>2003-12-15 00:00:00+00:00</th>\n",
       "      <td>1.218695</td>\n",
       "      <td>1.244199</td>\n",
       "      <td>1.217804</td>\n",
       "      <td>1.235804</td>\n",
       "      <td>0</td>\n",
       "      <td>0</td>\n",
       "      <td>0</td>\n",
       "    </tr>\n",
       "    <tr>\n",
       "      <th>2003-12-22 00:00:00+00:00</th>\n",
       "      <td>1.235697</td>\n",
       "      <td>1.267202</td>\n",
       "      <td>1.235697</td>\n",
       "      <td>1.243394</td>\n",
       "      <td>0</td>\n",
       "      <td>0</td>\n",
       "      <td>0</td>\n",
       "    </tr>\n",
       "    <tr>\n",
       "      <th>2003-12-29 00:00:00+00:00</th>\n",
       "      <td>1.243394</td>\n",
       "      <td>1.264894</td>\n",
       "      <td>1.242993</td>\n",
       "      <td>1.263807</td>\n",
       "      <td>0</td>\n",
       "      <td>0</td>\n",
       "      <td>0</td>\n",
       "    </tr>\n",
       "    <tr>\n",
       "      <th>...</th>\n",
       "      <td>...</td>\n",
       "      <td>...</td>\n",
       "      <td>...</td>\n",
       "      <td>...</td>\n",
       "      <td>...</td>\n",
       "      <td>...</td>\n",
       "      <td>...</td>\n",
       "    </tr>\n",
       "    <tr>\n",
       "      <th>2022-10-03 00:00:00+01:00</th>\n",
       "      <td>0.979269</td>\n",
       "      <td>0.999420</td>\n",
       "      <td>0.973170</td>\n",
       "      <td>0.974032</td>\n",
       "      <td>0</td>\n",
       "      <td>0</td>\n",
       "      <td>0</td>\n",
       "    </tr>\n",
       "    <tr>\n",
       "      <th>2022-10-10 00:00:00+01:00</th>\n",
       "      <td>0.973501</td>\n",
       "      <td>0.980383</td>\n",
       "      <td>0.963595</td>\n",
       "      <td>0.972479</td>\n",
       "      <td>0</td>\n",
       "      <td>0</td>\n",
       "      <td>0</td>\n",
       "    </tr>\n",
       "    <tr>\n",
       "      <th>2022-10-17 00:00:00+01:00</th>\n",
       "      <td>0.973937</td>\n",
       "      <td>0.987362</td>\n",
       "      <td>0.970732</td>\n",
       "      <td>0.986291</td>\n",
       "      <td>0</td>\n",
       "      <td>0</td>\n",
       "      <td>0</td>\n",
       "    </tr>\n",
       "    <tr>\n",
       "      <th>2022-10-24 00:00:00+01:00</th>\n",
       "      <td>0.986009</td>\n",
       "      <td>0.997536</td>\n",
       "      <td>0.980892</td>\n",
       "      <td>0.988650</td>\n",
       "      <td>0</td>\n",
       "      <td>0</td>\n",
       "      <td>0</td>\n",
       "    </tr>\n",
       "    <tr>\n",
       "      <th>2022-10-26 00:00:00+01:00</th>\n",
       "      <td>0.996910</td>\n",
       "      <td>0.997009</td>\n",
       "      <td>0.995718</td>\n",
       "      <td>0.996512</td>\n",
       "      <td>0</td>\n",
       "      <td>0</td>\n",
       "      <td>0</td>\n",
       "    </tr>\n",
       "  </tbody>\n",
       "</table>\n",
       "<p>986 rows × 7 columns</p>\n",
       "</div>"
      ],
      "text/plain": [
       "                               Open      High       Low     Close  Volume  \\\n",
       "Date                                                                        \n",
       "2003-12-01 00:00:00+00:00  1.203398  1.219096  1.194401  1.217093       0   \n",
       "2003-12-08 00:00:00+00:00  1.216797  1.230603  1.212298  1.218502       0   \n",
       "2003-12-15 00:00:00+00:00  1.218695  1.244199  1.217804  1.235804       0   \n",
       "2003-12-22 00:00:00+00:00  1.235697  1.267202  1.235697  1.243394       0   \n",
       "2003-12-29 00:00:00+00:00  1.243394  1.264894  1.242993  1.263807       0   \n",
       "...                             ...       ...       ...       ...     ...   \n",
       "2022-10-03 00:00:00+01:00  0.979269  0.999420  0.973170  0.974032       0   \n",
       "2022-10-10 00:00:00+01:00  0.973501  0.980383  0.963595  0.972479       0   \n",
       "2022-10-17 00:00:00+01:00  0.973937  0.987362  0.970732  0.986291       0   \n",
       "2022-10-24 00:00:00+01:00  0.986009  0.997536  0.980892  0.988650       0   \n",
       "2022-10-26 00:00:00+01:00  0.996910  0.997009  0.995718  0.996512       0   \n",
       "\n",
       "                           Dividends  Stock Splits  \n",
       "Date                                                \n",
       "2003-12-01 00:00:00+00:00          0             0  \n",
       "2003-12-08 00:00:00+00:00          0             0  \n",
       "2003-12-15 00:00:00+00:00          0             0  \n",
       "2003-12-22 00:00:00+00:00          0             0  \n",
       "2003-12-29 00:00:00+00:00          0             0  \n",
       "...                              ...           ...  \n",
       "2022-10-03 00:00:00+01:00          0             0  \n",
       "2022-10-10 00:00:00+01:00          0             0  \n",
       "2022-10-17 00:00:00+01:00          0             0  \n",
       "2022-10-24 00:00:00+01:00          0             0  \n",
       "2022-10-26 00:00:00+01:00          0             0  \n",
       "\n",
       "[986 rows x 7 columns]"
      ]
     },
     "execution_count": 3,
     "metadata": {},
     "output_type": "execute_result"
    }
   ],
   "source": [
    "hist = eur.history(interval='1wk',period='max')\n",
    "hist"
   ]
  },
  {
   "cell_type": "markdown",
   "id": "45892641",
   "metadata": {},
   "source": [
    "# EUR USD Weekly"
   ]
  },
  {
   "cell_type": "code",
   "execution_count": 4,
   "id": "6d0317ff",
   "metadata": {
    "ExecuteTime": {
     "end_time": "2022-10-25T23:15:54.482486Z",
     "start_time": "2022-10-25T23:15:53.865831Z"
    }
   },
   "outputs": [
    {
     "data": {
      "text/plain": [
       "[<matplotlib.lines.Line2D at 0x27cc33f59d0>]"
      ]
     },
     "execution_count": 4,
     "metadata": {},
     "output_type": "execute_result"
    },
    {
     "data": {
      "image/png": "[encoded data removed]",
      "text/plain": [
       "<Figure size 640x480 with 1 Axes>"
      ]
     },
     "metadata": {},
     "output_type": "display_data"
    }
   ],
   "source": [
    "import matplotlib.pyplot as plt\n",
    "\n",
    "plt.plot(hist.Close)"
   ]
  },
  {
   "cell_type": "code",
   "execution_count": 5,
   "id": "003fa3c3",
   "metadata": {
    "ExecuteTime": {
     "end_time": "2022-10-25T23:15:54.493731Z",
     "start_time": "2022-10-25T23:15:54.482486Z"
    }
   },
   "outputs": [],
   "source": [
    "X=[]\n",
    "Y=[]\n",
    "end=4\n",
    "x=hist.Close.dropna().values\n",
    "for i in range(len(x)):\n",
    "    if end>=len(x)-1:break\n",
    "    X.append(x[i:end])\n",
    "    Y.append(x[end])\n",
    "    end+=1"
   ]
  },
  {
   "cell_type": "code",
   "execution_count": 6,
   "id": "de79553c",
   "metadata": {
    "ExecuteTime": {
     "end_time": "2022-10-25T23:15:54.509192Z",
     "start_time": "2022-10-25T23:15:54.493731Z"
    }
   },
   "outputs": [
    {
     "data": {
      "text/plain": [
       "1.2433944940567017"
      ]
     },
     "execution_count": 6,
     "metadata": {},
     "output_type": "execute_result"
    }
   ],
   "source": [
    "x[3]"
   ]
  },
  {
   "cell_type": "code",
   "execution_count": 7,
   "id": "f7a9f9d8",
   "metadata": {
    "ExecuteTime": {
     "end_time": "2022-10-25T23:15:54.527795Z",
     "start_time": "2022-10-25T23:15:54.510167Z"
    }
   },
   "outputs": [
    {
     "data": {
      "text/plain": [
       "(array([1.21709287, 1.21850169, 1.23580372, 1.24339449, 1.26380706]),\n",
       " array([1.21709287, 1.21850169, 1.23580372, 1.24339449]),\n",
       " 1.2638070583343506)"
      ]
     },
     "execution_count": 7,
     "metadata": {},
     "output_type": "execute_result"
    }
   ],
   "source": [
    "x[:5],X[0],Y[0]"
   ]
  },
  {
   "cell_type": "code",
   "execution_count": 8,
   "id": "17d37b7a",
   "metadata": {
    "ExecuteTime": {
     "end_time": "2022-10-25T23:15:54.543535Z",
     "start_time": "2022-10-25T23:15:54.528795Z"
    }
   },
   "outputs": [],
   "source": [
    "import numpy as np\n",
    "\n",
    "X_arr,Y_arr=np.array(X),np.array(Y)"
   ]
  },
  {
   "cell_type": "code",
   "execution_count": 9,
   "id": "3b3310ea",
   "metadata": {
    "ExecuteTime": {
     "end_time": "2022-10-25T23:15:54.559117Z",
     "start_time": "2022-10-25T23:15:54.544216Z"
    }
   },
   "outputs": [],
   "source": [
    "X_arr=X_arr.reshape(X_arr.shape[:][0],4,1)"
   ]
  },
  {
   "cell_type": "code",
   "execution_count": 10,
   "id": "7e240c63",
   "metadata": {
    "ExecuteTime": {
     "end_time": "2022-10-25T23:15:54.576818Z",
     "start_time": "2022-10-25T23:15:54.560745Z"
    }
   },
   "outputs": [],
   "source": [
    "X_train,X_test,y_train,y_test=X_arr[:-100],X_arr[-100:],Y_arr[:-100],Y_arr[-100:]"
   ]
  },
  {
   "cell_type": "code",
   "execution_count": 11,
   "id": "82bac24f",
   "metadata": {
    "ExecuteTime": {
     "end_time": "2022-10-25T23:15:54.592433Z",
     "start_time": "2022-10-25T23:15:54.577603Z"
    }
   },
   "outputs": [
    {
     "data": {
      "text/plain": [
       "(881, 4, 1)"
      ]
     },
     "execution_count": 11,
     "metadata": {},
     "output_type": "execute_result"
    }
   ],
   "source": [
    "X_train.shape"
   ]
  },
  {
   "cell_type": "code",
   "execution_count": 12,
   "id": "1f09ff52",
   "metadata": {
    "ExecuteTime": {
     "end_time": "2022-10-25T23:15:56.576311Z",
     "start_time": "2022-10-25T23:15:54.593402Z"
    }
   },
   "outputs": [],
   "source": [
    "from keras.models import Sequential\n",
    "from keras.layers import LSTM,Dense"
   ]
  },
  {
   "cell_type": "code",
   "execution_count": 13,
   "id": "3f06334b",
   "metadata": {
    "ExecuteTime": {
     "end_time": "2022-10-25T23:15:56.709316Z",
     "start_time": "2022-10-25T23:15:56.576311Z"
    },
    "code_folding": [
     0
    ]
   },
   "outputs": [
    {
     "name": "stdout",
     "output_type": "stream",
     "text": [
      "Model: \"Sequence_LSTM\"\n",
      "_________________________________________________________________\n",
      " Layer (type)                Output Shape              Param #   \n",
      "=================================================================\n",
      " input_layer_lstm (LSTM)     (None, 50)                10400     \n",
      "                                                                 \n",
      " Hidden_layer_Dense1 (Dense)  (None, 50)               2550      \n",
      "                                                                 \n",
      " Hidden_layer_Dense2 (Dense)  (None, 50)               2550      \n",
      "                                                                 \n",
      " Output_layer_Dense (Dense)  (None, 1)                 51        \n",
      "                                                                 \n",
      "=================================================================\n",
      "Total params: 15,551\n",
      "Trainable params: 15,551\n",
      "Non-trainable params: 0\n",
      "_________________________________________________________________\n"
     ]
    }
   ],
   "source": [
    "#Architecture\n",
    "nn=Sequential(name='Sequence_LSTM')\n",
    "nn.add(LSTM(50,activation='relu',input_shape=(4,1),name='input_layer_lstm'))\n",
    "nn.add(Dense(50,name='Hidden_layer_Dense1',activation='LeakyReLU'))\n",
    "nn.add(Dense(50,name='Hidden_layer_Dense2'))\n",
    "nn.add(Dense(1,name='Output_layer_Dense'))\n",
    "nn.compile(loss='mse',optimizer='adam')\n",
    "nn.summary()"
   ]
  },
  {
   "cell_type": "code",
   "execution_count": 14,
   "id": "642e81b1",
   "metadata": {
    "ExecuteTime": {
     "end_time": "2022-10-25T23:16:00.207289Z",
     "start_time": "2022-10-25T23:15:56.709316Z"
    }
   },
   "outputs": [
    {
     "name": "stdout",
     "output_type": "stream",
     "text": [
      "Epoch 1/100\n",
      "9/9 [==============================] - 1s 5ms/step - loss: 0.9676\n",
      "Epoch 2/100\n",
      "9/9 [==============================] - 0s 2ms/step - loss: 0.2050\n",
      "Epoch 3/100\n",
      "9/9 [==============================] - 0s 4ms/step - loss: 0.0475\n",
      "Epoch 4/100\n",
      "9/9 [==============================] - 0s 2ms/step - loss: 0.0210\n",
      "Epoch 5/100\n",
      "9/9 [==============================] - 0s 4ms/step - loss: 0.0119\n",
      "Epoch 6/100\n",
      "9/9 [==============================] - 0s 4ms/step - loss: 0.0047\n",
      "Epoch 7/100\n",
      "9/9 [==============================] - 0s 2ms/step - loss: 0.0033\n",
      "Epoch 8/100\n",
      "9/9 [==============================] - 0s 2ms/step - loss: 0.0018\n",
      "Epoch 9/100\n",
      "9/9 [==============================] - 0s 4ms/step - loss: 0.0019\n",
      "Epoch 10/100\n",
      "9/9 [==============================] - 0s 2ms/step - loss: 0.0016\n",
      "Epoch 11/100\n",
      "9/9 [==============================] - 0s 2ms/step - loss: 0.0015\n",
      "Epoch 12/100\n",
      "9/9 [==============================] - 0s 4ms/step - loss: 0.0015\n",
      "Epoch 13/100\n",
      "9/9 [==============================] - 0s 2ms/step - loss: 0.0015\n",
      "Epoch 14/100\n",
      "9/9 [==============================] - 0s 4ms/step - loss: 0.0014\n",
      "Epoch 15/100\n",
      "9/9 [==============================] - 0s 3ms/step - loss: 0.0014\n",
      "Epoch 16/100\n",
      "9/9 [==============================] - 0s 2ms/step - loss: 0.0014\n",
      "Epoch 17/100\n",
      "9/9 [==============================] - 0s 4ms/step - loss: 0.0014\n",
      "Epoch 18/100\n",
      "9/9 [==============================] - 0s 2ms/step - loss: 0.0014\n",
      "Epoch 19/100\n",
      "9/9 [==============================] - 0s 2ms/step - loss: 0.0013\n",
      "Epoch 20/100\n",
      "9/9 [==============================] - 0s 4ms/step - loss: 0.0013\n",
      "Epoch 21/100\n",
      "9/9 [==============================] - 0s 2ms/step - loss: 0.0013\n",
      "Epoch 22/100\n",
      "9/9 [==============================] - 0s 2ms/step - loss: 0.0013\n",
      "Epoch 23/100\n",
      "9/9 [==============================] - 0s 4ms/step - loss: 0.0013\n",
      "Epoch 24/100\n",
      "9/9 [==============================] - 0s 2ms/step - loss: 0.0012\n",
      "Epoch 25/100\n",
      "9/9 [==============================] - 0s 2ms/step - loss: 0.0012\n",
      "Epoch 26/100\n",
      "9/9 [==============================] - 0s 4ms/step - loss: 0.0012\n",
      "Epoch 27/100\n",
      "9/9 [==============================] - 0s 2ms/step - loss: 0.0012\n",
      "Epoch 28/100\n",
      "9/9 [==============================] - 0s 4ms/step - loss: 0.0012\n",
      "Epoch 29/100\n",
      "9/9 [==============================] - 0s 2ms/step - loss: 0.0011\n",
      "Epoch 30/100\n",
      "9/9 [==============================] - 0s 2ms/step - loss: 0.0011\n",
      "Epoch 31/100\n",
      "9/9 [==============================] - 0s 4ms/step - loss: 0.0011\n",
      "Epoch 32/100\n",
      "9/9 [==============================] - 0s 2ms/step - loss: 0.0011\n",
      "Epoch 33/100\n",
      "9/9 [==============================] - 0s 2ms/step - loss: 0.0010\n",
      "Epoch 34/100\n",
      "9/9 [==============================] - 0s 4ms/step - loss: 0.0010\n",
      "Epoch 35/100\n",
      "9/9 [==============================] - 0s 1ms/step - loss: 0.0010\n",
      "Epoch 36/100\n",
      "9/9 [==============================] - 0s 2ms/step - loss: 9.8939e-04\n",
      "Epoch 37/100\n",
      "9/9 [==============================] - 0s 2ms/step - loss: 9.7850e-04\n",
      "Epoch 38/100\n",
      "9/9 [==============================] - 0s 2ms/step - loss: 9.6760e-04\n",
      "Epoch 39/100\n",
      "9/9 [==============================] - 0s 4ms/step - loss: 9.4732e-04\n",
      "Epoch 40/100\n",
      "9/9 [==============================] - 0s 2ms/step - loss: 9.2320e-04\n",
      "Epoch 41/100\n",
      "9/9 [==============================] - 0s 3ms/step - loss: 9.0113e-04\n",
      "Epoch 42/100\n",
      "9/9 [==============================] - 0s 4ms/step - loss: 8.8228e-04\n",
      "Epoch 43/100\n",
      "9/9 [==============================] - 0s 2ms/step - loss: 8.6439e-04\n",
      "Epoch 44/100\n",
      "9/9 [==============================] - 0s 3ms/step - loss: 8.5825e-04\n",
      "Epoch 45/100\n",
      "9/9 [==============================] - 0s 7ms/step - loss: 8.3819e-04\n",
      "Epoch 46/100\n",
      "9/9 [==============================] - 0s 4ms/step - loss: 8.3498e-04\n",
      "Epoch 47/100\n",
      "9/9 [==============================] - 0s 4ms/step - loss: 8.1907e-04\n",
      "Epoch 48/100\n",
      "9/9 [==============================] - 0s 2ms/step - loss: 7.9423e-04\n",
      "Epoch 49/100\n",
      "9/9 [==============================] - 0s 2ms/step - loss: 7.7218e-04\n",
      "Epoch 50/100\n",
      "9/9 [==============================] - 0s 4ms/step - loss: 7.5895e-04\n",
      "Epoch 51/100\n",
      "9/9 [==============================] - 0s 2ms/step - loss: 7.4587e-04\n",
      "Epoch 52/100\n",
      "9/9 [==============================] - 0s 3ms/step - loss: 7.3111e-04\n",
      "Epoch 53/100\n",
      "9/9 [==============================] - 0s 3ms/step - loss: 7.2058e-04\n",
      "Epoch 54/100\n",
      "9/9 [==============================] - 0s 2ms/step - loss: 7.0813e-04\n",
      "Epoch 55/100\n",
      "9/9 [==============================] - 0s 2ms/step - loss: 7.0063e-04\n",
      "Epoch 56/100\n",
      "9/9 [==============================] - 0s 2ms/step - loss: 6.9013e-04\n",
      "Epoch 57/100\n",
      "9/9 [==============================] - 0s 2ms/step - loss: 6.8166e-04\n",
      "Epoch 58/100\n",
      "9/9 [==============================] - 0s 2ms/step - loss: 6.6675e-04\n",
      "Epoch 59/100\n",
      "9/9 [==============================] - 0s 2ms/step - loss: 6.5583e-04\n",
      "Epoch 60/100\n",
      "9/9 [==============================] - 0s 2ms/step - loss: 6.4529e-04\n",
      "Epoch 61/100\n",
      "9/9 [==============================] - 0s 2ms/step - loss: 6.3747e-04\n",
      "Epoch 62/100\n",
      "9/9 [==============================] - 0s 4ms/step - loss: 6.3700e-04\n",
      "Epoch 63/100\n",
      "9/9 [==============================] - 0s 2ms/step - loss: 6.2276e-04\n",
      "Epoch 64/100\n",
      "9/9 [==============================] - 0s 2ms/step - loss: 6.1973e-04\n",
      "Epoch 65/100\n",
      "9/9 [==============================] - 0s 2ms/step - loss: 6.0482e-04\n",
      "Epoch 66/100\n",
      "9/9 [==============================] - 0s 2ms/step - loss: 6.0206e-04\n",
      "Epoch 67/100\n",
      "9/9 [==============================] - 0s 2ms/step - loss: 5.9410e-04\n",
      "Epoch 68/100\n",
      "9/9 [==============================] - 0s 2ms/step - loss: 5.8532e-04\n",
      "Epoch 69/100\n",
      "9/9 [==============================] - 0s 4ms/step - loss: 5.7955e-04\n",
      "Epoch 70/100\n",
      "9/9 [==============================] - 0s 2ms/step - loss: 5.7464e-04\n",
      "Epoch 71/100\n",
      "9/9 [==============================] - 0s 4ms/step - loss: 5.6731e-04\n",
      "Epoch 72/100\n",
      "9/9 [==============================] - 0s 2ms/step - loss: 5.6596e-04\n",
      "Epoch 73/100\n",
      "9/9 [==============================] - 0s 4ms/step - loss: 5.5846e-04\n",
      "Epoch 74/100\n",
      "9/9 [==============================] - 0s 2ms/step - loss: 5.5533e-04\n",
      "Epoch 75/100\n",
      "9/9 [==============================] - 0s 2ms/step - loss: 5.4954e-04\n",
      "Epoch 76/100\n",
      "9/9 [==============================] - 0s 3ms/step - loss: 5.4800e-04\n",
      "Epoch 77/100\n",
      "9/9 [==============================] - 0s 2ms/step - loss: 5.4435e-04\n",
      "Epoch 78/100\n",
      "9/9 [==============================] - 0s 2ms/step - loss: 5.4057e-04\n",
      "Epoch 79/100\n",
      "9/9 [==============================] - 0s 2ms/step - loss: 5.3500e-04\n",
      "Epoch 80/100\n",
      "9/9 [==============================] - 0s 2ms/step - loss: 5.3668e-04\n",
      "Epoch 81/100\n",
      "9/9 [==============================] - 0s 2ms/step - loss: 5.3247e-04\n",
      "Epoch 82/100\n",
      "9/9 [==============================] - 0s 2ms/step - loss: 5.3259e-04\n",
      "Epoch 83/100\n",
      "9/9 [==============================] - 0s 4ms/step - loss: 5.3679e-04\n",
      "Epoch 84/100\n",
      "9/9 [==============================] - 0s 2ms/step - loss: 5.2450e-04\n",
      "Epoch 85/100\n",
      "9/9 [==============================] - 0s 3ms/step - loss: 5.2316e-04\n",
      "Epoch 86/100\n",
      "9/9 [==============================] - 0s 2ms/step - loss: 5.2347e-04\n",
      "Epoch 87/100\n",
      "9/9 [==============================] - 0s 3ms/step - loss: 5.1800e-04\n",
      "Epoch 88/100\n",
      "9/9 [==============================] - 0s 2ms/step - loss: 5.1838e-04\n",
      "Epoch 89/100\n",
      "9/9 [==============================] - 0s 2ms/step - loss: 5.1371e-04\n",
      "Epoch 90/100\n",
      "9/9 [==============================] - 0s 2ms/step - loss: 5.1536e-04\n",
      "Epoch 91/100\n",
      "9/9 [==============================] - 0s 2ms/step - loss: 5.1435e-04\n",
      "Epoch 92/100\n",
      "9/9 [==============================] - 0s 2ms/step - loss: 5.2503e-04\n",
      "Epoch 93/100\n",
      "9/9 [==============================] - 0s 3ms/step - loss: 5.1350e-04\n",
      "Epoch 94/100\n",
      "9/9 [==============================] - 0s 4ms/step - loss: 5.1855e-04\n",
      "Epoch 95/100\n",
      "9/9 [==============================] - 0s 2ms/step - loss: 5.1020e-04\n",
      "Epoch 96/100\n",
      "9/9 [==============================] - 0s 2ms/step - loss: 5.1265e-04\n",
      "Epoch 97/100\n",
      "9/9 [==============================] - 0s 2ms/step - loss: 5.0655e-04\n",
      "Epoch 98/100\n",
      "9/9 [==============================] - 0s 2ms/step - loss: 5.0761e-04\n",
      "Epoch 99/100\n",
      "9/9 [==============================] - 0s 2ms/step - loss: 5.2592e-04\n",
      "Epoch 100/100\n",
      "9/9 [==============================] - 0s 2ms/step - loss: 5.2434e-04\n"
     ]
    },
    {
     "data": {
      "text/plain": [
       "<keras.callbacks.History at 0x27cdaa8c9a0>"
      ]
     },
     "execution_count": 14,
     "metadata": {},
     "output_type": "execute_result"
    }
   ],
   "source": [
    "nn.fit(X_train,y_train,epochs=100,batch_size=100)"
   ]
  },
  {
   "cell_type": "code",
   "execution_count": 15,
   "id": "fba5db27",
   "metadata": {
    "ExecuteTime": {
     "end_time": "2022-10-25T23:16:00.388035Z",
     "start_time": "2022-10-25T23:16:00.207289Z"
    }
   },
   "outputs": [
    {
     "name": "stdout",
     "output_type": "stream",
     "text": [
      "4/4 [==============================] - 0s 1ms/step\n"
     ]
    }
   ],
   "source": [
    "pred=nn.predict(X_test)"
   ]
  },
  {
   "cell_type": "code",
   "execution_count": 16,
   "id": "62ba4886",
   "metadata": {
    "ExecuteTime": {
     "end_time": "2022-10-25T23:16:00.469116Z",
     "start_time": "2022-10-25T23:16:00.389018Z"
    }
   },
   "outputs": [
    {
     "data": {
      "image/png": "[encoded data removed]",
      "text/plain": [
       "<Figure size 640x480 with 1 Axes>"
      ]
     },
     "metadata": {},
     "output_type": "display_data"
    }
   ],
   "source": [
    "# plt.plot(hist.Close)\n",
    "plt.plot(pred,label='prediction',color='orange')\n",
    "plt.plot(y_test,label='Actual',color='red')\n",
    "# plt.xticks(hist.index[:-100])\n",
    "plt.legend()\n",
    "plt.show()"
   ]
  },
  {
   "cell_type": "code",
   "execution_count": 17,
   "id": "f177b74e",
   "metadata": {
    "ExecuteTime": {
     "end_time": "2022-10-25T23:16:01.502604Z",
     "start_time": "2022-10-25T23:16:00.471025Z"
    }
   },
   "outputs": [
    {
     "data": {
      "text/plain": [
       "array([1.21709287, 1.21850169, 1.23580372, 1.24339449, 1.26380706,\n",
       "       1.28509927, 1.23880434, 1.25749791, 1.24770737, 1.26479816,\n",
       "       1.27279902, 1.25079739, 1.25300717, 1.23639965, 1.2211951 ,\n",
       "       1.22770178, 1.21150446, 1.2114017 , 1.20939457, 1.20229876,\n",
       "       1.18080485, 1.19929957, 1.18930101, 1.18949902, 1.20010567,\n",
       "       1.22400522, 1.23149681, 1.19650137, 1.21360695, 1.21749294,\n",
       "       1.23330414, 1.24149573, 1.24570227, 1.2111963 , 1.20450008,\n",
       "       1.22740054, 1.23780763, 1.23049664, 1.20170641, 1.20630169,\n",
       "       1.22809386, 1.21749294, 1.2283051 , 1.2398026 , 1.24109519,\n",
       "       1.24820566, 1.27289617, 1.28320289, 1.29689908, 1.29910624,\n",
       "       1.30250728, 1.3271929 , 1.34500802, 1.32229662, 1.33139837,\n",
       "       1.35270405, 1.35819733, 1.30759978, 1.30989492, 1.30430806,\n",
       "       1.3024056 , 1.28549576, 1.28889227, 1.30710411, 1.32539856,\n",
       "       1.32369673, 1.34740019, 1.33159339, 1.29580677, 1.28980672,\n",
       "       1.29240716, 1.29190624, 1.30519331, 1.28620672, 1.28200197,\n",
       "       1.2603029 , 1.25539827, 1.25310147, 1.22310698, 1.21150446,\n",
       "       1.21930397, 1.21109366, 1.1936022 , 1.19700265, 1.20339835,\n",
       "       1.20509505, 1.21240044, 1.23339546, 1.24540746, 1.21690035,\n",
       "       1.22999716, 1.25390267, 1.24029469, 1.214993  , 1.20270371,\n",
       "       1.20199525, 1.21150446, 1.20700061, 1.19440067, 1.20650542,\n",
       "       1.18069327, 1.17350233, 1.1776067 , 1.17179716, 1.17179716,\n",
       "       1.1793983 , 1.20380402, 1.1861974 , 1.1843009 , 1.21429956,\n",
       "       1.21660423, 1.21700394, 1.21059513, 1.20270371, 1.19009364,\n",
       "       1.19484305, 1.18420279, 1.2081964 , 1.19189513, 1.21789336,\n",
       "       1.20339835, 1.21179807, 1.21109366, 1.2127974 , 1.23770034,\n",
       "       1.26249874, 1.27349603, 1.29705048, 1.27669895, 1.27399898,\n",
       "       1.29250741, 1.26179779, 1.26369536, 1.25100088, 1.27900136,\n",
       "       1.28090167, 1.2639029 , 1.2706964 , 1.27645445, 1.28849375,\n",
       "       1.27330148, 1.28389478, 1.27619386, 1.28480208, 1.26720226,\n",
       "       1.26439834, 1.27909958, 1.26779664, 1.25919211, 1.2505002 ,\n",
       "       1.26160681, 1.27310681, 1.27179539, 1.28480208, 1.28229785,\n",
       "       1.31580687, 1.33579123, 1.31870461, 1.30840397, 1.31359446,\n",
       "       1.31980097, 1.30079603, 1.29289174, 1.29629385, 1.29260755,\n",
       "       1.29629385, 1.3019985 , 1.3149935 , 1.31839156, 1.31860018,\n",
       "       1.31300807, 1.33180618, 1.32659423, 1.33579123, 1.33739901,\n",
       "       1.35760725, 1.36039615, 1.36399603, 1.35980415, 1.35339975,\n",
       "       1.35239303, 1.3450985 , 1.34419441, 1.33609462, 1.33840144,\n",
       "       1.34669244, 1.3542062 , 1.36289918, 1.37739146, 1.38370001,\n",
       "       1.3628062 , 1.38180721, 1.36900043, 1.34870863, 1.36740911,\n",
       "       1.36340082, 1.37780893, 1.38680863, 1.40910566, 1.42700171,\n",
       "       1.41500759, 1.4167918 , 1.43299329, 1.44100523, 1.45059991,\n",
       "       1.46569538, 1.4673084 , 1.48378956, 1.46629715, 1.46550214,\n",
       "       1.4418987 , 1.43789721, 1.47360039, 1.47520912, 1.48060405,\n",
       "       1.4595983 , 1.46939981, 1.48049438, 1.45279157, 1.4673084 ,\n",
       "       1.48330534, 1.52019584, 1.55719578, 1.57569647, 1.54080832,\n",
       "       1.57890582, 1.57289577, 1.57220352, 1.5800035 , 1.56020844,\n",
       "       1.54340041, 1.54559505, 1.55819058, 1.57649136, 1.55579066,\n",
       "       1.54152083, 1.53919566, 1.55998933, 1.57940459, 1.57032704,\n",
       "       1.59139371, 1.5833056 , 1.56990802, 1.55930829, 1.50489092,\n",
       "       1.46950781, 1.43504965, 1.43124986, 1.44500315, 1.4542917 ,\n",
       "       1.365803  , 1.36160016, 1.34060836, 1.26160681, 1.27718818,\n",
       "       1.28252816, 1.25250506, 1.26460624, 1.26750743, 1.27320409,\n",
       "       1.34450161, 1.39719439, 1.41059637, 1.39579022, 1.34165156,\n",
       "       1.33636236, 1.29020607, 1.2752012 , 1.29607546, 1.27909958,\n",
       "       1.27960682, 1.25960445, 1.27173078, 1.28837752, 1.3628062 ,\n",
       "       1.32761574, 1.35319829, 1.31816566, 1.30446124, 1.32259393,\n",
       "       1.32759809, 1.36210084, 1.34776342, 1.40260327, 1.4120903 ,\n",
       "       1.39380598, 1.39850366, 1.39417505, 1.40639055, 1.39590716,\n",
       "       1.39699924, 1.41370726, 1.41960764, 1.42904103, 1.41910398,\n",
       "       1.41729391, 1.43400013, 1.43049228, 1.4321928 , 1.45785344,\n",
       "       1.4706099 , 1.47119403, 1.46000314, 1.47279739, 1.48940289,\n",
       "       1.49940765, 1.47080457, 1.48667932, 1.49492478, 1.48701096,\n",
       "       1.50035262, 1.48650253, 1.46228755, 1.43319857, 1.4376905 ,\n",
       "       1.43200827, 1.44701052, 1.4369055 , 1.41538811, 1.387694  ,\n",
       "       1.36399603, 1.36241639, 1.3628062 , 1.36379135, 1.36358678,\n",
       "       1.37746739, 1.3514061 , 1.34502602, 1.34961879, 1.3625834 ,\n",
       "       1.34867227, 1.33593392, 1.33230305, 1.28749835, 1.23704195,\n",
       "       1.25360417, 1.2268734 , 1.19340289, 1.21428478, 1.24140322,\n",
       "       1.23800683, 1.25610781, 1.26460624, 1.29032266, 1.28884256,\n",
       "       1.30599451, 1.31813085, 1.28298891, 1.28080332, 1.270648  ,\n",
       "       1.28259397, 1.2693094 , 1.30759978, 1.33191264, 1.3622123 ,\n",
       "       1.3927964 , 1.40720201, 1.39169157, 1.37780893, 1.42279899,\n",
       "       1.36210084, 1.3657285 , 1.33397365, 1.32159758, 1.32420516,\n",
       "       1.32399476, 1.31271493, 1.33012331, 1.2979933 , 1.33532739,\n",
       "       1.34680128, 1.37230682, 1.36245358, 1.36019266, 1.362602  ,\n",
       "       1.38199806, 1.39588773, 1.38012898, 1.40329206, 1.41719341,\n",
       "       1.42239416, 1.4463408 , 1.44119215, 1.45570993, 1.47911489,\n",
       "       1.45443964, 1.42379153, 1.43161869, 1.41350746, 1.44860351,\n",
       "       1.45156837, 1.41990995, 1.42700171, 1.44969547, 1.43645132,\n",
       "       1.41572869, 1.44200265, 1.43319857, 1.40670717, 1.42263699,\n",
       "       1.43243909, 1.43729794, 1.42620802, 1.39041448, 1.38690484,\n",
       "       1.34809041, 1.35858488, 1.34289467, 1.37355089, 1.37790394,\n",
       "       1.41739428, 1.38299191, 1.36100721, 1.34580445, 1.33310223,\n",
       "       1.34669244, 1.33454335, 1.30296552, 1.30560231, 1.29600823,\n",
       "       1.26784492, 1.26516616, 1.28907514, 1.3211087 , 1.31261158,\n",
       "       1.32269883, 1.32297885, 1.34700096, 1.31934822, 1.31216383,\n",
       "       1.31799197, 1.32770383, 1.33770311, 1.3085922 , 1.30679667,\n",
       "       1.3203063 , 1.32259393, 1.29836404, 1.28962362, 1.27640557,\n",
       "       1.25768769, 1.24174237, 1.26470208, 1.27339864, 1.25399709,\n",
       "       1.26609516, 1.22708428, 1.22610617, 1.21190083, 1.23102677,\n",
       "       1.23946452, 1.22905993, 1.23409557, 1.25189352, 1.25809908,\n",
       "       1.27996719, 1.31169903, 1.29701686, 1.28450501, 1.30201554,\n",
       "       1.29469955, 1.30247343, 1.2923069 , 1.28282428, 1.27219987,\n",
       "       1.27619386, 1.29689908, 1.29969716, 1.29010618, 1.31693316,\n",
       "       1.31860018, 1.32289135, 1.30739462, 1.33618391, 1.33189487,\n",
       "       1.34661996, 1.36498272, 1.33700562, 1.33429408, 1.31990552,\n",
       "       1.30230379, 1.29900503, 1.29040575, 1.30301654, 1.28078687,\n",
       "       1.30049169, 1.31066751, 1.30640399, 1.30449533, 1.31137216,\n",
       "       1.29679811, 1.28386176, 1.29429734, 1.29929197, 1.3209691 ,\n",
       "       1.3348639 , 1.31085646, 1.30130398, 1.28300524, 1.30597746,\n",
       "       1.31461322, 1.32860351, 1.32807422, 1.33349335, 1.33260477,\n",
       "       1.33806121, 1.32039344, 1.31684637, 1.33759582, 1.35281384,\n",
       "       1.34949124, 1.35729408, 1.35580349, 1.36860693, 1.38054812,\n",
       "       1.34934556, 1.33470356, 1.34832668, 1.35530734, 1.3584187 ,\n",
       "       1.37074554, 1.3740983 , 1.3678019 , 1.3750807 , 1.35969329,\n",
       "       1.36718488, 1.35290539, 1.36901915, 1.34881783, 1.3621937 ,\n",
       "       1.36993802, 1.3740983 , 1.37752438, 1.38800216, 1.39120758,\n",
       "       1.37957668, 1.37500513, 1.36978793, 1.38450456, 1.38159716,\n",
       "       1.38406396, 1.387694  , 1.37591326, 1.36982548, 1.36278772,\n",
       "       1.36302924, 1.36429369, 1.35336304, 1.35960078, 1.3646661 ,\n",
       "       1.3590095 , 1.3605442 , 1.35316169, 1.34323752, 1.34239006,\n",
       "       1.34071624, 1.33897483, 1.31910455, 1.31345642, 1.2952528 ,\n",
       "       1.29654598, 1.28374648, 1.26734686, 1.25098515, 1.26489413,\n",
       "       1.27458358, 1.26781273, 1.25021875, 1.24624562, 1.25208163,\n",
       "       1.23739409, 1.24379659, 1.23010314, 1.2459352 , 1.22256863,\n",
       "       1.21697438, 1.19464326, 1.18707037, 1.15660417, 1.11254501,\n",
       "       1.13090193, 1.13143933, 1.14000392, 1.13814843, 1.11619604,\n",
       "       1.08459866, 1.04816306, 1.08266115, 1.08849466, 1.10013425,\n",
       "       1.06098545, 1.08102262, 1.08689737, 1.11859322, 1.11940718,\n",
       "       1.14450526, 1.10140646, 1.09603453, 1.12078726, 1.12406278,\n",
       "       1.13707423, 1.12029755, 1.10869658, 1.10630488, 1.08860123,\n",
       "       1.09890103, 1.0939244 , 1.09270513, 1.11609638, 1.12369657,\n",
       "       1.12479615, 1.1125946 , 1.12908876, 1.14009488, 1.11789298,\n",
       "       1.11934447, 1.12869358, 1.13681579, 1.10809457, 1.10089719,\n",
       "       1.07413685, 1.07736564, 1.06507611, 1.05946791, 1.08819842,\n",
       "       1.09973502, 1.08686197, 1.09799623, 1.08539915, 1.09410381,\n",
       "       1.09200108, 1.07990193, 1.08259082, 1.1145041 , 1.12259901,\n",
       "       1.1123966 , 1.09239471, 1.09939647, 1.11679435, 1.1279043 ,\n",
       "       1.11599672, 1.13900399, 1.1403029 , 1.12999463, 1.12340617,\n",
       "       1.14630258, 1.13879657, 1.13169539, 1.12217081, 1.11100006,\n",
       "       1.13509953, 1.1239996 , 1.13490629, 1.10359442, 1.11310232,\n",
       "       1.10439885, 1.10531437, 1.09704459, 1.11680686, 1.10895479,\n",
       "       1.11669457, 1.12981582, 1.11994624, 1.11619604, 1.12411332,\n",
       "       1.11584735, 1.1239239 , 1.12346923, 1.11969543, 1.09677994,\n",
       "       1.08825767, 1.09846652, 1.11012435, 1.08248544, 1.05842507,\n",
       "       1.06123316, 1.05820107, 1.05474114, 1.04499757, 1.04547834,\n",
       "       1.05269802, 1.05318582, 1.06286871, 1.07137501, 1.07139802,\n",
       "       1.07829499, 1.06195438, 1.06266534, 1.05527532, 1.06204462,\n",
       "       1.06900418, 1.0742985 , 1.08495176, 1.06688297, 1.05820107,\n",
       "       1.06105304, 1.08739388, 1.09075046, 1.0965153 , 1.09272897,\n",
       "       1.12048578, 1.11760557, 1.12808251, 1.12019718, 1.12082493,\n",
       "       1.11988354, 1.14230883, 1.14038086, 1.14753914, 1.16816974,\n",
       "       1.17472923, 1.1778425 , 1.18255031, 1.17562687, 1.19518578,\n",
       "       1.18828356, 1.20176423, 1.19371629, 1.1927197 , 1.18073511,\n",
       "       1.17424643, 1.18229866, 1.17830038, 1.16102219, 1.16210151,\n",
       "       1.16668415, 1.17935658, 1.19330311, 1.18993783, 1.17670596,\n",
       "       1.17511582, 1.18609893, 1.20000482, 1.20322466, 1.21979487,\n",
       "       1.22261345, 1.24299264, 1.24640107, 1.22469473, 1.24089491,\n",
       "       1.22960401, 1.23199749, 1.23090553, 1.22980058, 1.23589528,\n",
       "       1.23319769, 1.22999716, 1.23490334, 1.23140574, 1.21490443,\n",
       "       1.19790602, 1.19620085, 1.17920363, 1.16580009, 1.16710627,\n",
       "       1.17830038, 1.16230416, 1.16690195, 1.1704942 , 1.17559934,\n",
       "       1.17009699, 1.17319942, 1.16740608, 1.15839958, 1.14240015,\n",
       "       1.1450032 , 1.16339946, 1.16230416, 1.15730023, 1.16360259,\n",
       "       1.17709374, 1.16230416, 1.15360212, 1.15770221, 1.15320301,\n",
       "       1.14259601, 1.13900399, 1.13390255, 1.1422044 , 1.1344043 ,\n",
       "       1.13190031, 1.13839459, 1.13109374, 1.13849831, 1.14399457,\n",
       "       1.13970506, 1.14710474, 1.13739765, 1.14019883, 1.14589536,\n",
       "       1.13369691, 1.12980306, 1.13430119, 1.13790238, 1.1241008 ,\n",
       "       1.1345973 , 1.13219512, 1.1233052 , 1.12340617, 1.13210535,\n",
       "       1.12479615, 1.11649513, 1.12130249, 1.12369657, 1.11689413,\n",
       "       1.12079978, 1.11999643, 1.13430119, 1.12389851, 1.13970506,\n",
       "       1.13909483, 1.1233052 , 1.12889755, 1.12349451, 1.11490178,\n",
       "       1.11310232, 1.13129854, 1.1095947 , 1.12420177, 1.10120034,\n",
       "       1.11339974, 1.1157974 , 1.10200119, 1.09411585, 1.09799623,\n",
       "       1.10400009, 1.1170001 , 1.10820019, 1.11690032, 1.10224426,\n",
       "       1.10540962, 1.10229039, 1.10191023, 1.10610044, 1.11199939,\n",
       "       1.10800016, 1.11769938, 1.11610007, 1.11199939, 1.10910976,\n",
       "       1.10256994, 1.10947037, 1.0948298 , 1.08311963, 1.08479047,\n",
       "       1.10280943, 1.12879944, 1.11459982, 1.07650042, 1.1170001 ,\n",
       "       1.08100045, 1.09369946, 1.08799958, 1.08245957, 1.10959959,\n",
       "       1.0971998 , 1.08245957, 1.09100032, 1.11100006, 1.12927997,\n",
       "       1.12558997, 1.11778057, 1.12198949, 1.12499988, 1.12999964,\n",
       "       1.14310014, 1.16566014, 1.17800057, 1.17902005, 1.18430936,\n",
       "       1.17999947, 1.19079947, 1.1838901 , 1.18490005, 1.18405974,\n",
       "       1.16329932, 1.17176008, 1.18318975, 1.17200053, 1.18640006,\n",
       "       1.16789961, 1.18745947, 1.18383968, 1.18568969, 1.19643986,\n",
       "       1.21244013, 1.21125054, 1.22590029, 1.22849965, 1.21400034,\n",
       "       1.22300076, 1.20810008, 1.21759963, 1.21390009, 1.20494998,\n",
       "       1.21220052, 1.21188033, 1.20736063, 1.19176018, 1.19548011,\n",
       "       1.19500005, 1.18260062, 1.17603064, 1.19018006, 1.1982305 ,\n",
       "       1.20975006, 1.20206034, 1.21638966, 1.21461964, 1.21816039,\n",
       "       1.21929061, 1.21669006, 1.21093965, 1.18647039, 1.19367075,\n",
       "       1.18700004, 1.18779933, 1.18058038, 1.17716026, 1.18676043,\n",
       "       1.17638063, 1.17974055, 1.16979992, 1.17964041, 1.18845022,\n",
       "       1.18156934, 1.17269039, 1.17211032, 1.15968919, 1.15767539,\n",
       "       1.15994477, 1.16482234, 1.15613616, 1.15473437, 1.1444267 ,\n",
       "       1.12815881, 1.12931824, 1.13147771, 1.13170815, 1.12396169,\n",
       "       1.13417268, 1.13752699, 1.13636363, 1.14164376, 1.13450718,\n",
       "       1.11482716, 1.14508188, 1.13507378, 1.13237464, 1.1273067 ,\n",
       "       1.09512234, 1.0912385 , 1.10643947, 1.09853888, 1.10497236,\n",
       "       1.08761859, 1.08166575, 1.08026361, 1.0546298 , 1.05496359,\n",
       "       1.04123282, 1.05641246, 1.07388318, 1.07215607, 1.0521332 ,\n",
       "       1.0496484 , 1.05585468, 1.04297042, 1.01874495, 1.00886798,\n",
       "       1.02155483, 1.02270401, 1.01801896, 1.02638841, 1.00421774,\n",
       "       0.9967109 , 0.99591678, 1.01553774, 1.00156236, 0.96908611,\n",
       "       0.9804883 , 0.97403234, 0.97247881, 0.98629051, 0.98865032,\n",
       "       0.99651223])"
      ]
     },
     "execution_count": 17,
     "metadata": {},
     "output_type": "execute_result"
    }
   ],
   "source": [
    "fp = eur.history(interval='1wk',period='max')\n",
    "fp.Close.values"
   ]
  },
  {
   "cell_type": "code",
   "execution_count": 18,
   "id": "a9a4ccb5",
   "metadata": {
    "ExecuteTime": {
     "end_time": "2022-10-25T23:16:01.511020Z",
     "start_time": "2022-10-25T23:16:01.503580Z"
    }
   },
   "outputs": [
    {
     "data": {
      "text/plain": [
       "Date\n",
       "2003-12-01 00:00:00+00:00    1.217093\n",
       "2003-12-08 00:00:00+00:00    1.218502\n",
       "2003-12-15 00:00:00+00:00    1.235804\n",
       "2003-12-22 00:00:00+00:00    1.243394\n",
       "2003-12-29 00:00:00+00:00    1.263807\n",
       "                               ...   \n",
       "2022-10-03 00:00:00+01:00    0.974032\n",
       "2022-10-10 00:00:00+01:00    0.972479\n",
       "2022-10-17 00:00:00+01:00    0.986291\n",
       "2022-10-24 00:00:00+01:00    0.988650\n",
       "2022-10-26 00:00:00+01:00    0.996512\n",
       "Name: Close, Length: 986, dtype: float64"
      ]
     },
     "execution_count": 18,
     "metadata": {},
     "output_type": "execute_result"
    }
   ],
   "source": [
    "fp.Close"
   ]
  },
  {
   "cell_type": "code",
   "execution_count": 19,
   "id": "7505d97c",
   "metadata": {
    "ExecuteTime": {
     "end_time": "2022-10-25T23:16:01.552586Z",
     "start_time": "2022-10-25T23:16:01.511020Z"
    }
   },
   "outputs": [],
   "source": [
    "X=[]\n",
    "end=3\n",
    "x=fp.Close\n",
    "for i in range(len(x)):\n",
    "    end+=1\n",
    "    if end>=len(x)-1:break\n",
    "    X.append(x[i:end])"
   ]
  },
  {
   "cell_type": "code",
   "execution_count": 20,
   "id": "26bfd2ed",
   "metadata": {
    "ExecuteTime": {
     "end_time": "2022-10-25T23:16:01.567773Z",
     "start_time": "2022-10-25T23:16:01.553565Z"
    }
   },
   "outputs": [
    {
     "data": {
      "text/plain": [
       "(981, 4)"
      ]
     },
     "execution_count": 20,
     "metadata": {},
     "output_type": "execute_result"
    }
   ],
   "source": [
    "import numpy as np\n",
    "new_points=np.array(X)#.reshape(53, 4,1)\n",
    "new_points.shape"
   ]
  },
  {
   "cell_type": "code",
   "execution_count": 21,
   "id": "c4c7b5ec",
   "metadata": {
    "ExecuteTime": {
     "end_time": "2022-10-25T23:16:01.587871Z",
     "start_time": "2022-10-25T23:16:01.569742Z"
    }
   },
   "outputs": [],
   "source": [
    "new_points=new_points.reshape(new_points.shape[:][0],4,1)"
   ]
  },
  {
   "cell_type": "code",
   "execution_count": 22,
   "id": "63075b01",
   "metadata": {
    "ExecuteTime": {
     "end_time": "2022-10-25T23:16:01.604502Z",
     "start_time": "2022-10-25T23:16:01.588980Z"
    }
   },
   "outputs": [
    {
     "data": {
      "text/plain": [
       "Date\n",
       "2022-09-26 00:00:00+01:00    0.980488\n",
       "2022-10-03 00:00:00+01:00    0.974032\n",
       "2022-10-10 00:00:00+01:00    0.972479\n",
       "2022-10-17 00:00:00+01:00    0.986291\n",
       "Name: Close, dtype: float64"
      ]
     },
     "execution_count": 22,
     "metadata": {},
     "output_type": "execute_result"
    }
   ],
   "source": [
    "X[-1]"
   ]
  },
  {
   "cell_type": "code",
   "execution_count": 23,
   "id": "2d83345b",
   "metadata": {
    "ExecuteTime": {
     "end_time": "2022-10-25T23:16:01.669169Z",
     "start_time": "2022-10-25T23:16:01.604961Z"
    }
   },
   "outputs": [
    {
     "name": "stdout",
     "output_type": "stream",
     "text": [
      "1/1 [==============================] - 0s 16ms/step\n"
     ]
    },
    {
     "data": {
      "text/plain": [
       "array([0.9901468], dtype=float32)"
      ]
     },
     "execution_count": 23,
     "metadata": {},
     "output_type": "execute_result"
    }
   ],
   "source": [
    "nn.predict(np.array(X[-1]).reshape(1,4,1))[0]"
   ]
  },
  {
   "cell_type": "code",
   "execution_count": 24,
   "id": "b5f94a70",
   "metadata": {
    "ExecuteTime": {
     "end_time": "2022-10-25T23:16:01.852515Z",
     "start_time": "2022-10-25T23:16:01.671143Z"
    }
   },
   "outputs": [
    {
     "name": "stdout",
     "output_type": "stream",
     "text": [
      "1/1 [==============================] - 0s 26ms/step\n",
      "[0.9804883  0.97403234 0.97247881 0.98629051 0.99014682]\n",
      "1/1 [==============================] - 0s 17ms/step\n"
     ]
    },
    {
     "data": {
      "image/png": "[encoded data removed]",
      "text/plain": [
       "<Figure size 640x480 with 1 Axes>"
      ]
     },
     "metadata": {},
     "output_type": "display_data"
    }
   ],
   "source": [
    "print(np.append(X[-1],nn.predict(np.array(X[-1]).reshape(1,4,1))[0]))\n",
    "plt.plot(np.append(X[-1],nn.predict(np.array(X[-1]).reshape(1,4,1))[0]),color='orange')\n",
    "plt.show()"
   ]
  },
  {
   "cell_type": "code",
   "execution_count": 25,
   "id": "e8d0f581",
   "metadata": {
    "ExecuteTime": {
     "end_time": "2022-10-25T23:16:02.051685Z",
     "start_time": "2022-10-25T23:16:01.854468Z"
    }
   },
   "outputs": [
    {
     "name": "stdout",
     "output_type": "stream",
     "text": [
      "31/31 [==============================] - 0s 1ms/step\n"
     ]
    },
    {
     "data": {
      "image/png": "[encoded data removed]",
      "text/plain": [
       "<Figure size 640x480 with 1 Axes>"
      ]
     },
     "metadata": {},
     "output_type": "display_data"
    }
   ],
   "source": [
    "pred1=nn.predict(new_points)\n",
    "plt.plot(x,label='input',color='green')\n",
    "plt.plot(pred1,color='orange')\n",
    "plt.show()"
   ]
  },
  {
   "cell_type": "code",
   "execution_count": 26,
   "id": "bcd0cfcd",
   "metadata": {
    "ExecuteTime": {
     "end_time": "2022-10-25T23:16:03.209141Z",
     "start_time": "2022-10-25T23:16:02.053635Z"
    }
   },
   "outputs": [
    {
     "data": {
      "text/html": [
       "<div>\n",
       "<style scoped>\n",
       "    .dataframe tbody tr th:only-of-type {\n",
       "        vertical-align: middle;\n",
       "    }\n",
       "\n",
       "    .dataframe tbody tr th {\n",
       "        vertical-align: top;\n",
       "    }\n",
       "\n",
       "    .dataframe thead th {\n",
       "        text-align: right;\n",
       "    }\n",
       "</style>\n",
       "<table border=\"1\" class=\"dataframe\">\n",
       "  <thead>\n",
       "    <tr style=\"text-align: right;\">\n",
       "      <th></th>\n",
       "      <th>Open</th>\n",
       "      <th>High</th>\n",
       "      <th>Low</th>\n",
       "      <th>Close</th>\n",
       "      <th>Volume</th>\n",
       "      <th>Dividends</th>\n",
       "      <th>Stock Splits</th>\n",
       "    </tr>\n",
       "    <tr>\n",
       "      <th>Date</th>\n",
       "      <th></th>\n",
       "      <th></th>\n",
       "      <th></th>\n",
       "      <th></th>\n",
       "      <th></th>\n",
       "      <th></th>\n",
       "      <th></th>\n",
       "    </tr>\n",
       "  </thead>\n",
       "  <tbody>\n",
       "    <tr>\n",
       "      <th>2003-12-01 00:00:00+00:00</th>\n",
       "      <td>1.203398</td>\n",
       "      <td>1.219096</td>\n",
       "      <td>1.194401</td>\n",
       "      <td>1.217093</td>\n",
       "      <td>0</td>\n",
       "      <td>0</td>\n",
       "      <td>0</td>\n",
       "    </tr>\n",
       "    <tr>\n",
       "      <th>2003-12-08 00:00:00+00:00</th>\n",
       "      <td>1.216797</td>\n",
       "      <td>1.230603</td>\n",
       "      <td>1.212298</td>\n",
       "      <td>1.218502</td>\n",
       "      <td>0</td>\n",
       "      <td>0</td>\n",
       "      <td>0</td>\n",
       "    </tr>\n",
       "    <tr>\n",
       "      <th>2003-12-15 00:00:00+00:00</th>\n",
       "      <td>1.218695</td>\n",
       "      <td>1.244199</td>\n",
       "      <td>1.217804</td>\n",
       "      <td>1.235804</td>\n",
       "      <td>0</td>\n",
       "      <td>0</td>\n",
       "      <td>0</td>\n",
       "    </tr>\n",
       "    <tr>\n",
       "      <th>2003-12-22 00:00:00+00:00</th>\n",
       "      <td>1.235697</td>\n",
       "      <td>1.267202</td>\n",
       "      <td>1.235697</td>\n",
       "      <td>1.243394</td>\n",
       "      <td>0</td>\n",
       "      <td>0</td>\n",
       "      <td>0</td>\n",
       "    </tr>\n",
       "    <tr>\n",
       "      <th>2003-12-29 00:00:00+00:00</th>\n",
       "      <td>1.243394</td>\n",
       "      <td>1.264894</td>\n",
       "      <td>1.242993</td>\n",
       "      <td>1.263807</td>\n",
       "      <td>0</td>\n",
       "      <td>0</td>\n",
       "      <td>0</td>\n",
       "    </tr>\n",
       "    <tr>\n",
       "      <th>...</th>\n",
       "      <td>...</td>\n",
       "      <td>...</td>\n",
       "      <td>...</td>\n",
       "      <td>...</td>\n",
       "      <td>...</td>\n",
       "      <td>...</td>\n",
       "      <td>...</td>\n",
       "    </tr>\n",
       "    <tr>\n",
       "      <th>2022-10-03 00:00:00+01:00</th>\n",
       "      <td>0.979269</td>\n",
       "      <td>0.999420</td>\n",
       "      <td>0.973170</td>\n",
       "      <td>0.974032</td>\n",
       "      <td>0</td>\n",
       "      <td>0</td>\n",
       "      <td>0</td>\n",
       "    </tr>\n",
       "    <tr>\n",
       "      <th>2022-10-10 00:00:00+01:00</th>\n",
       "      <td>0.973501</td>\n",
       "      <td>0.980383</td>\n",
       "      <td>0.963595</td>\n",
       "      <td>0.972479</td>\n",
       "      <td>0</td>\n",
       "      <td>0</td>\n",
       "      <td>0</td>\n",
       "    </tr>\n",
       "    <tr>\n",
       "      <th>2022-10-17 00:00:00+01:00</th>\n",
       "      <td>0.973937</td>\n",
       "      <td>0.987362</td>\n",
       "      <td>0.970732</td>\n",
       "      <td>0.986291</td>\n",
       "      <td>0</td>\n",
       "      <td>0</td>\n",
       "      <td>0</td>\n",
       "    </tr>\n",
       "    <tr>\n",
       "      <th>2022-10-24 00:00:00+01:00</th>\n",
       "      <td>0.986009</td>\n",
       "      <td>0.997536</td>\n",
       "      <td>0.980892</td>\n",
       "      <td>0.988650</td>\n",
       "      <td>0</td>\n",
       "      <td>0</td>\n",
       "      <td>0</td>\n",
       "    </tr>\n",
       "    <tr>\n",
       "      <th>2022-10-26 00:00:00+01:00</th>\n",
       "      <td>0.996910</td>\n",
       "      <td>0.997009</td>\n",
       "      <td>0.995718</td>\n",
       "      <td>0.996512</td>\n",
       "      <td>0</td>\n",
       "      <td>0</td>\n",
       "      <td>0</td>\n",
       "    </tr>\n",
       "  </tbody>\n",
       "</table>\n",
       "<p>986 rows × 7 columns</p>\n",
       "</div>"
      ],
      "text/plain": [
       "                               Open      High       Low     Close  Volume  \\\n",
       "Date                                                                        \n",
       "2003-12-01 00:00:00+00:00  1.203398  1.219096  1.194401  1.217093       0   \n",
       "2003-12-08 00:00:00+00:00  1.216797  1.230603  1.212298  1.218502       0   \n",
       "2003-12-15 00:00:00+00:00  1.218695  1.244199  1.217804  1.235804       0   \n",
       "2003-12-22 00:00:00+00:00  1.235697  1.267202  1.235697  1.243394       0   \n",
       "2003-12-29 00:00:00+00:00  1.243394  1.264894  1.242993  1.263807       0   \n",
       "...                             ...       ...       ...       ...     ...   \n",
       "2022-10-03 00:00:00+01:00  0.979269  0.999420  0.973170  0.974032       0   \n",
       "2022-10-10 00:00:00+01:00  0.973501  0.980383  0.963595  0.972479       0   \n",
       "2022-10-17 00:00:00+01:00  0.973937  0.987362  0.970732  0.986291       0   \n",
       "2022-10-24 00:00:00+01:00  0.986009  0.997536  0.980892  0.988650       0   \n",
       "2022-10-26 00:00:00+01:00  0.996910  0.997009  0.995718  0.996512       0   \n",
       "\n",
       "                           Dividends  Stock Splits  \n",
       "Date                                                \n",
       "2003-12-01 00:00:00+00:00          0             0  \n",
       "2003-12-08 00:00:00+00:00          0             0  \n",
       "2003-12-15 00:00:00+00:00          0             0  \n",
       "2003-12-22 00:00:00+00:00          0             0  \n",
       "2003-12-29 00:00:00+00:00          0             0  \n",
       "...                              ...           ...  \n",
       "2022-10-03 00:00:00+01:00          0             0  \n",
       "2022-10-10 00:00:00+01:00          0             0  \n",
       "2022-10-17 00:00:00+01:00          0             0  \n",
       "2022-10-24 00:00:00+01:00          0             0  \n",
       "2022-10-26 00:00:00+01:00          0             0  \n",
       "\n",
       "[986 rows x 7 columns]"
      ]
     },
     "execution_count": 26,
     "metadata": {},
     "output_type": "execute_result"
    }
   ],
   "source": [
    "eur_5min = eur.history(interval='1wk',period='max')\n",
    "hist"
   ]
  },
  {
   "cell_type": "markdown",
   "id": "331c4ef1",
   "metadata": {},
   "source": [
    "# eurusd 5min"
   ]
  },
  {
   "cell_type": "code",
   "execution_count": 27,
   "id": "dfccf303",
   "metadata": {
    "ExecuteTime": {
     "end_time": "2022-10-25T23:16:04.090507Z",
     "start_time": "2022-10-25T23:16:03.217602Z"
    }
   },
   "outputs": [],
   "source": [
    "eur5min= eur.history(interval='15m',period='1d')"
   ]
  },
  {
   "cell_type": "code",
   "execution_count": null,
   "id": "d4b81df3",
   "metadata": {},
   "outputs": [],
   "source": []
  }
 ],
 "metadata": {
  "kernelspec": {
   "display_name": "Python 3 (ipykernel)",
   "language": "python",
   "name": "python3"
  },
  "language_info": {
   "codemirror_mode": {
    "name": "ipython",
    "version": 3
   },
   "file_extension": ".py",
   "mimetype": "text/x-python",
   "name": "python",
   "nbconvert_exporter": "python",
   "pygments_lexer": "ipython3",
   "version": "3.9.13"
  },
  "varInspector": {
   "cols": {
    "lenName": 16,
    "lenType": 16,
    "lenVar": 40
   },
   "kernels_config": {
    "python": {
     "delete_cmd_postfix": "",
     "delete_cmd_prefix": "del ",
     "library": "var_list.py",
     "varRefreshCmd": "print(var_dic_list())"
    },
    "r": {
     "delete_cmd_postfix": ") ",
     "delete_cmd_prefix": "rm(",
     "library": "var_list.r",
     "varRefreshCmd": "cat(var_dic_list()) "
    }
   },
   "types_to_exclude": [
    "module",
    "function",
    "builtin_function_or_method",
    "instance",
    "_Feature"
   ],
   "window_display": false
  }
 },
 "nbformat": 4,
 "nbformat_minor": 5
}
